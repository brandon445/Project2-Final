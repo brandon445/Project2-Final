{
 "cells": [
  {
   "cell_type": "code",
   "execution_count": 3,
   "metadata": {},
   "outputs": [
    {
     "name": "stderr",
     "output_type": "stream",
     "text": [
      "/Users/BrandonWallace/anaconda3/lib/python3.6/site-packages/plotly/api/v1/clientresp.py:40: UserWarning:\n",
      "\n",
      "Estimated Draw Time Slow\n",
      "\n"
     ]
    },
    {
     "name": "stdout",
     "output_type": "stream",
     "text": [
      "The draw time for this plot will be slow for clients without much RAM.\n"
     ]
    },
    {
     "data": {
      "text/plain": [
       "'https://plot.ly/~Brybtb/176'"
      ]
     },
     "execution_count": 3,
     "metadata": {},
     "output_type": "execute_result"
    }
   ],
   "source": [
    "import os\n",
    "import pandas as pd\n",
    "import numpy as np\n",
    "import datetime as dt\n",
    "import matplotlib\n",
    "# import dash\n",
    "import plotly\n",
    "plotly.__version__\n",
    "import json\n",
    "# plotly.tools.set_credentials_file(username='Brybtb', api_key='50jVIE7Kj5EttwIAtSyJ')\n",
    "from plotly.offline import init_notebook_mode, iplot, plot\n",
    "from IPython.display import display, HTML\n",
    "from flask import Flask, render_template, url_for, jsonify\n",
    "\n",
    "# ----------------------------------------------\n",
    "import plotly.plotly as py\n",
    "import plotly.graph_objs as go\n",
    "import plotly.figure_factory as FF\n",
    "\n",
    "df = pd.read_csv('result2.csv')\n",
    "\n",
    "sample_data_table = FF.create_table(df.head(5))\n",
    "py.iplot(sample_data_table, filename='sample-data-table')\n",
    "\n",
    "trace1 = go.Scatter(x=df['Ticker'], y=df['PE'],mode='lines', name='')\n",
    "trace2 = go.Scatter(x=df['Ticker'],y=df['PE'], mode='lines', name='')\n",
    "trace3 = go.Scatter(x=df['Ticker'],y=df['PE'], mode='lines', name='')\n",
    "layout = go.Layout(title='Simple Plot from csv data',plot_bgcolor='rgb(230,230,230)')\n",
    "fig = go.Figure(data=[trace1, trace2, trace3], layout=layout)\n",
    "py.plot(fig,filename='simple-plot-from-csv')\n",
    "\n",
    "b_df = pd.read_csv('Apple.csv')\n",
    "b_df_external_source = FF.create_table(b_df.head())\n",
    "py.plot(b_df_external_source, filename='apple-data')\n",
    "\n",
    "trace = go.Scatter(x=b_df['Date'], y=b_df['Open'],\n",
    "                  name='Share Prices')\n",
    "\n",
    "layout = go.Layout(title=\"Apple Share Prices\", plot_bgcolor='rgb(230,230,230)',showlegend=True)\n",
    "fig = go.Figure(data=[trace],layout=layout)\n",
    "py.plot(fig,filename='apple-stock')\n",
    "\n"
   ]
  },
  {
   "cell_type": "code",
   "execution_count": null,
   "metadata": {},
   "outputs": [],
   "source": []
  },
  {
   "cell_type": "code",
   "execution_count": null,
   "metadata": {},
   "outputs": [],
   "source": []
  },
  {
   "cell_type": "code",
   "execution_count": null,
   "metadata": {},
   "outputs": [],
   "source": []
  }
 ],
 "metadata": {
  "kernelspec": {
   "display_name": "Python 3",
   "language": "python",
   "name": "python3"
  },
  "language_info": {
   "codemirror_mode": {
    "name": "ipython",
    "version": 3
   },
   "file_extension": ".py",
   "mimetype": "text/x-python",
   "name": "python",
   "nbconvert_exporter": "python",
   "pygments_lexer": "ipython3",
   "version": "3.6.5"
  }
 },
 "nbformat": 4,
 "nbformat_minor": 2
}
